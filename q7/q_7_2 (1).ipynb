{
  "nbformat": 4,
  "nbformat_minor": 0,
  "metadata": {
    "colab": {
      "provenance": []
    },
    "kernelspec": {
      "name": "python3",
      "display_name": "Python 3"
    },
    "language_info": {
      "name": "python"
    }
  },
  "cells": [
    {
      "cell_type": "markdown",
      "source": [
        "Boxplot"
      ],
      "metadata": {
        "id": "_o5LiU6CvgFr"
      }
    },
    {
      "cell_type": "code",
      "source": [
        "\n",
        "import matplotlib.pyplot as plt\n",
        "import pandas as p\n",
        "data = p.read_csv(\"Avg_TRT.csv\")\n",
        "plt.boxplot(data['Chennai'])"
      ],
      "metadata": {
        "colab": {
          "base_uri": "https://localhost:8080/",
          "height": 404
        },
        "id": "hgZ6FpmgvkSK",
        "outputId": "c95640c5-c8a7-4e9e-b040-4408d858d49a"
      },
      "execution_count": 5,
      "outputs": [
        {
          "output_type": "execute_result",
          "data": {
            "text/plain": [
              "{'whiskers': [<matplotlib.lines.Line2D at 0x7f240093c0d0>,\n",
              "  <matplotlib.lines.Line2D at 0x7f240093c610>],\n",
              " 'caps': [<matplotlib.lines.Line2D at 0x7f240093cb50>,\n",
              "  <matplotlib.lines.Line2D at 0x7f24009430d0>],\n",
              " 'boxes': [<matplotlib.lines.Line2D at 0x7f240092cad0>],\n",
              " 'medians': [<matplotlib.lines.Line2D at 0x7f2400943650>],\n",
              " 'fliers': [<matplotlib.lines.Line2D at 0x7f2400943b90>],\n",
              " 'means': []}"
            ]
          },
          "metadata": {},
          "execution_count": 5
        },
        {
          "output_type": "display_data",
          "data": {
            "text/plain": [
              "<Figure size 432x288 with 1 Axes>"
            ],
            "image/png": "[encoded data removed]"
          },
          "metadata": {
            "needs_background": "light"
          }
        }
      ]
    }
  ]
}