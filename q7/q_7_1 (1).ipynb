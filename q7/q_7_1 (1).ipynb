{
  "nbformat": 4,
  "nbformat_minor": 0,
  "metadata": {
    "colab": {
      "provenance": []
    },
    "kernelspec": {
      "name": "python3",
      "display_name": "Python 3"
    },
    "language_info": {
      "name": "python"
    }
  },
  "cells": [
    {
      "cell_type": "markdown",
      "source": [
        "Dataset"
      ],
      "metadata": {
        "id": "iKEm9lW_ubRr"
      }
    },
    {
      "cell_type": "markdown",
      "source": [
        "Apply the measure of central tendency"
      ],
      "metadata": {
        "id": "_yDWacPcuUMk"
      }
    },
    {
      "cell_type": "markdown",
      "source": [
        "Mean"
      ],
      "metadata": {
        "id": "gXnJYruLuXOd"
      }
    },
    {
      "cell_type": "code",
      "execution_count": 9,
      "metadata": {
        "colab": {
          "base_uri": "https://localhost:8080/"
        },
        "id": "UzhAvr64teKc",
        "outputId": "f8568db2-5bea-415a-f974-bb567cd8da3e"
      },
      "outputs": [
        {
          "output_type": "stream",
          "name": "stdout",
          "text": [
            "Shape (16, 15)\n",
            "3.1937499999999996\n"
          ]
        }
      ],
      "source": [
        "import pandas as p\n",
        "data = p.read_csv(\"Avg_TRT.csv\")\n",
        "print('Shape',data.shape)\n",
        "print(data[\"Chennai\"].mean())"
      ]
    },
    {
      "cell_type": "markdown",
      "source": [
        "Median"
      ],
      "metadata": {
        "id": "kouIwNnOueWb"
      }
    },
    {
      "cell_type": "code",
      "source": [
        "print(data[\"Chennai\"].median())"
      ],
      "metadata": {
        "colab": {
          "base_uri": "https://localhost:8080/"
        },
        "id": "rqlly9HQufvd",
        "outputId": "aa32af9a-fb57-42f5-c228-f27ac7710c53"
      },
      "execution_count": 8,
      "outputs": [
        {
          "output_type": "stream",
          "name": "stdout",
          "text": [
            "3.2800000000000002\n"
          ]
        }
      ]
    },
    {
      "cell_type": "markdown",
      "source": [
        "Mode"
      ],
      "metadata": {
        "id": "pvWFQG5Zu1lD"
      }
    },
    {
      "cell_type": "code",
      "source": [
        "a=p.DataFrame(data)\n",
        "print(a[\"Chennai\"].mode())"
      ],
      "metadata": {
        "colab": {
          "base_uri": "https://localhost:8080/"
        },
        "id": "1ZVIQT2nvBlb",
        "outputId": "612b67b3-d221-4a36-f726-136f5bd03e08"
      },
      "execution_count": 13,
      "outputs": [
        {
          "output_type": "stream",
          "name": "stdout",
          "text": [
            "0     1.98\n",
            "1     2.00\n",
            "2     2.21\n",
            "3     2.46\n",
            "4     2.51\n",
            "5     2.53\n",
            "6     2.54\n",
            "7     3.24\n",
            "8     3.32\n",
            "9     3.36\n",
            "10    3.91\n",
            "11    3.94\n",
            "12    4.04\n",
            "13    4.15\n",
            "14    4.36\n",
            "15    4.55\n",
            "dtype: float64\n"
          ]
        }
      ]
    }
  ]
}